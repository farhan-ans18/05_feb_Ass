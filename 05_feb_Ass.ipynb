{
 "cells": [
  {
   "cell_type": "code",
   "execution_count": 9,
   "id": "0cd10d9b-ecf6-4b6d-bbcd-955d4d026f2a",
   "metadata": {},
   "outputs": [],
   "source": [
    "#Q1. Explain Class and Object with respect to Object-Oriented Programming. Give a suitable example.\n",
    "\n",
    "#Ans : -\n",
    "\n",
    "\"\"\"\n",
    "In object-oriented programming (OOP), a class is a blueprint or a template for creating objects. \n",
    "A class defines a set of attributes (or properties) and behaviors (or methods) that objects created\n",
    "from that class will have. \n",
    "\n",
    "An object, on the other hand, is an instance of a class. \n",
    "It is a concrete entity that contains specific values for the attributes defined by \n",
    "its class and can perform the behaviors or methods defined by the class.\n",
    "\n",
    "For example, consider a Car class. The Car class can have attributes such as color, make, model, and year.\n",
    "An object of the Car class can be created by using the new keyword followed by the name of the class:\n",
    "\n",
    "\"\"\"\n",
    "class Car:\n",
    "    def __init__(self, color, make, model, year):\n",
    "        self.color = color\n",
    "        self.make = make\n",
    "        self.model = model\n",
    "        self.year = year\n",
    "   \n",
    "    def return_car_details(self):\n",
    "        return self.color , self.make , self.model , self.year\n",
    "    "
   ]
  },
  {
   "cell_type": "code",
   "execution_count": 10,
   "id": "52d39160-2d60-4fab-8264-60439761fcf9",
   "metadata": {},
   "outputs": [],
   "source": [
    "car1 = Car(\"Black\", \"Toyota\", \"Fortuner\", 2022)\n",
    "car2 = Car(\"white\", \"Mahindra\", \"XUV700\", 2023)"
   ]
  },
  {
   "cell_type": "code",
   "execution_count": 14,
   "id": "c59fc3d5-1dd3-4afe-823a-91582ae386ad",
   "metadata": {},
   "outputs": [
    {
     "data": {
      "text/plain": [
       "('Black', 'Toyota', 'Fortuner', 2022)"
      ]
     },
     "execution_count": 14,
     "metadata": {},
     "output_type": "execute_result"
    }
   ],
   "source": [
    "car1.return_car_details()"
   ]
  },
  {
   "cell_type": "code",
   "execution_count": 15,
   "id": "c3b32225-1433-408f-ac57-70664e569951",
   "metadata": {},
   "outputs": [
    {
     "data": {
      "text/plain": [
       "('white', 'Mahindra', 'XUV700', 2023)"
      ]
     },
     "execution_count": 15,
     "metadata": {},
     "output_type": "execute_result"
    }
   ],
   "source": [
    "car2.return_car_details()"
   ]
  },
  {
   "cell_type": "code",
   "execution_count": null,
   "id": "6581c414-d06b-4d4a-8f0e-770f04889167",
   "metadata": {},
   "outputs": [],
   "source": [
    "#Q2.Name the four pillars of OOPs.\n",
    "\n",
    "#Ans:-\n",
    "\n",
    "\"\"\"\n",
    "\n",
    "The four pillars of object-oriented programming (OOP) are:\n",
    "\n",
    "1.Encapsulation: Encapsulation refers to the bundling of data and methods that manipulate that \n",
    "data within a single unit, such as a class. It allows for data hiding, \n",
    "where the internal details of the object are hidden from the outside world \n",
    "and can only be accessed through the object's methods.\n",
    "\n",
    "2.Inheritance: Inheritance is the ability of a class to inherit properties and methods from a parent class. \n",
    "It allows for the creation of hierarchical relationships between classes, \n",
    "where a child class can inherit and extend the properties and behaviors of a parent class.\n",
    "\n",
    "3.Polymorphism: Polymorphism allows objects of different classes to be treated as if they are of the same type. \n",
    "It allows for the use of a single interface to represent multiple different implementations of that interface.\n",
    "\n",
    "4.Abstraction: Abstraction is the process of identifying and defining the essential characteristics \n",
    "of an object or a system, while ignoring the non-essential details. \n",
    "It allows for the creation of simplified models of complex systems, which are easier to understand and work with.\n",
    "\n",
    "\n",
    "\"\"\""
   ]
  },
  {
   "cell_type": "code",
   "execution_count": 16,
   "id": "a585138a-9b09-4143-9836-6eb0309738e3",
   "metadata": {},
   "outputs": [],
   "source": [
    "#Q3.Explain why the __init__() function is used. Give a suitable example.\n",
    "\n",
    "#Ans:-\n",
    "\n",
    "\"\"\"\n",
    "__init__() function is a special method that is automatically called when an object is created from a class. \n",
    "It is used to initialize the attributes of an object and perform any other setup or initialization that is needed.\n",
    "The __init__() method is commonly used to set default values for attributes, \n",
    "and to take in parameters that are needed to create the object.\n",
    "\n",
    "\"\"\"\n",
    "\n",
    "# An Example:\n",
    "\n",
    "class Rectangle:\n",
    "    def __init__(self, width, height):\n",
    "        self.width = width\n",
    "        self.height = height\n",
    "    \n",
    "    def area(self):\n",
    "        return self.width * self.height\n"
   ]
  },
  {
   "cell_type": "code",
   "execution_count": 17,
   "id": "7ec4c2fc-89b5-4531-970f-4dae3cb4e8a3",
   "metadata": {},
   "outputs": [],
   "source": [
    "rectangle = Rectangle(6,7)"
   ]
  },
  {
   "cell_type": "code",
   "execution_count": 18,
   "id": "1ff22371-cd9d-4310-ae6f-36d4724ce2c8",
   "metadata": {},
   "outputs": [
    {
     "data": {
      "text/plain": [
       "42"
      ]
     },
     "execution_count": 18,
     "metadata": {},
     "output_type": "execute_result"
    }
   ],
   "source": [
    "rectangle.area()"
   ]
  },
  {
   "cell_type": "code",
   "execution_count": 33,
   "id": "e619160b-8889-44f9-9189-295c7bd2d818",
   "metadata": {},
   "outputs": [],
   "source": [
    "#Q4.Why self is used in OOPs?\n",
    "\n",
    "#Ans:-\n",
    "\n",
    "\"\"\"\n",
    "                      .....Self is a convention and not a Python keyword.....\n",
    "                      \n",
    "The self keyword is used to refer to the instance of a class that is being operated on. \n",
    "It is a reference to the object that is currently being worked with, and allows the methods \n",
    "of the class to access and modify the attributes of that object.\n",
    "\n",
    "When a method is called on an object, the object is automatically passed as the first\n",
    "argument to the method, which is conventionally named self. \n",
    "This allows the method to access the object's attributes and call other methods on the object.\n",
    "                  \n",
    "\"\"\"\n",
    "\n",
    "# Example\n",
    "\n",
    "class person():\n",
    "    def __init__(self, Name, Age):\n",
    "        self.Name = Name\n",
    "        self.Age = Age\n",
    "    def person_details(self):\n",
    "        print(\"This person name is\", self.Name ,\"and his Age is : \", self.Age)"
   ]
  },
  {
   "cell_type": "code",
   "execution_count": 34,
   "id": "1132b05d-482e-44ea-b472-62d7e98cb5cb",
   "metadata": {},
   "outputs": [],
   "source": [
    "person = person(\"Farhan\", 22)"
   ]
  },
  {
   "cell_type": "code",
   "execution_count": 36,
   "id": "cf029cb4-45d5-4cc1-a6a9-390303268d76",
   "metadata": {},
   "outputs": [
    {
     "name": "stdout",
     "output_type": "stream",
     "text": [
      "This person name is Farhan and his Age is :  22\n"
     ]
    }
   ],
   "source": [
    "person.person_details()"
   ]
  },
  {
   "cell_type": "code",
   "execution_count": 37,
   "id": "bad5d929-09b9-4451-af18-7ad7ccf4a14b",
   "metadata": {},
   "outputs": [
    {
     "name": "stdout",
     "output_type": "stream",
     "text": [
      "Max\n",
      "dog\n",
      "Labrador\n",
      "Max is eating.\n",
      "Woof!\n"
     ]
    }
   ],
   "source": [
    "#Q5. What is inheritance? Give an example for each type of inheritance.\n",
    "\n",
    "#Ans:-\n",
    "\n",
    "\"\"\"\n",
    "Inheritance is the ability of a class to inherit properties and methods from a parent class. \n",
    "It allows for the creation of hierarchical relationships between classes, \n",
    "where a child class can inherit and extend the properties and behaviors of a parent class.\n",
    "\n",
    "\"\"\"\n",
    "\n",
    "# Example:\n",
    "\n",
    "\n",
    "class Animal:\n",
    "    def __init__(self, name, species):\n",
    "        self.name = name\n",
    "        self.species = species\n",
    "    \n",
    "    def eat(self):\n",
    "        print(self.name, \"is eating.\")\n",
    "\n",
    "class Dog(Animal):\n",
    "    def __init__(self, name, breed):\n",
    "        super().__init__(name, species=\"dog\")\n",
    "        self.breed = breed\n",
    "    \n",
    "    def bark(self):\n",
    "        print(\"Woof!\")\n",
    "\n",
    "my_dog = Dog(\"Max\", \"Labrador\")\n",
    "print(my_dog.name)      \n",
    "print(my_dog.species)   \n",
    "print(my_dog.breed)     \n",
    "my_dog.eat()           \n",
    "my_dog.bark()           \n"
   ]
  },
  {
   "cell_type": "code",
   "execution_count": null,
   "id": "b90b0553-1b58-4e23-89bb-d5791e60f393",
   "metadata": {},
   "outputs": [],
   "source": []
  }
 ],
 "metadata": {
  "kernelspec": {
   "display_name": "Python 3 (ipykernel)",
   "language": "python",
   "name": "python3"
  },
  "language_info": {
   "codemirror_mode": {
    "name": "ipython",
    "version": 3
   },
   "file_extension": ".py",
   "mimetype": "text/x-python",
   "name": "python",
   "nbconvert_exporter": "python",
   "pygments_lexer": "ipython3",
   "version": "3.10.8"
  }
 },
 "nbformat": 4,
 "nbformat_minor": 5
}
